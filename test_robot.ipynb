{
 "cells": [
  {
   "cell_type": "code",
   "execution_count": null,
   "id": "53c6f691",
   "metadata": {},
   "outputs": [],
   "source": [
    "import numpy as np\n",
    "\n",
    "from robot import wx250s\n",
    "\n",
    "%load_ext autoreload\n",
    "%autoreload 2"
   ]
  },
  {
   "cell_type": "code",
   "execution_count": null,
   "id": "d8b6d43e",
   "metadata": {},
   "outputs": [],
   "source": [
    "robot = wx250s()"
   ]
  },
  {
   "cell_type": "code",
   "execution_count": null,
   "id": "eeddab04",
   "metadata": {},
   "outputs": [],
   "source": [
    "robot.go_to_home_pose()"
   ]
  },
  {
   "cell_type": "code",
   "execution_count": null,
   "id": "959061a7",
   "metadata": {},
   "outputs": [],
   "source": [
    "robot.set_joint_positions(np.deg2rad([0, -35, 60, 0, 65, 0]))"
   ]
  },
  {
   "cell_type": "code",
   "execution_count": null,
   "id": "389bfeac",
   "metadata": {},
   "outputs": [],
   "source": [
    "robot.get_joint_positions()"
   ]
  },
  {
   "cell_type": "code",
   "execution_count": null,
   "id": "a12865a3",
   "metadata": {},
   "outputs": [],
   "source": [
    "robot.get_ee_pose()"
   ]
  },
  {
   "cell_type": "code",
   "execution_count": null,
   "id": "80a09af2",
   "metadata": {},
   "outputs": [],
   "source": [
    "robot.show()"
   ]
  }
 ],
 "metadata": {
  "kernelspec": {
   "display_name": "wx250s_arm",
   "language": "python",
   "name": "python3"
  },
  "language_info": {
   "codemirror_mode": {
    "name": "ipython",
    "version": 3
   },
   "file_extension": ".py",
   "mimetype": "text/x-python",
   "name": "python",
   "nbconvert_exporter": "python",
   "pygments_lexer": "ipython3",
   "version": "3.10.18"
  }
 },
 "nbformat": 4,
 "nbformat_minor": 5
}
